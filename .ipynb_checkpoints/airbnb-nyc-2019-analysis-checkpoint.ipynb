{
 "cells": [
  {
   "cell_type": "code",
   "execution_count": 1,
   "id": "26f5c23d-d273-427a-81bb-dbd8b0ee83f7",
   "metadata": {},
   "outputs": [],
   "source": [
    "# Importing important libraries for this dataset\n",
    "import pandas as pd\n",
    "import numpy as np\n",
    "import matplotlib.pyplot as plt\n",
    "import seaborn as sns"
   ]
  },
  {
   "cell_type": "markdown",
   "id": "df4f6b8f-6c84-47b0-ac5e-ca91a146b7cd",
   "metadata": {},
   "source": [
    "# Step 1: Data Cleaning"
   ]
  },
  {
   "cell_type": "code",
   "execution_count": 2,
   "id": "0fb3aa0c-c3c4-43e3-9277-ece588f9c559",
   "metadata": {},
   "outputs": [],
   "source": [
    "# Loading the dataset\n",
    "df = pd.read_csv('AB_NYC_2019.csv')"
   ]
  },
  {
   "cell_type": "markdown",
   "id": "c96276d6-b4cb-4877-95c0-b29247517752",
   "metadata": {},
   "source": [
    "### Inspecting the dataset"
   ]
  },
  {
   "cell_type": "code",
   "execution_count": 3,
   "id": "3d9aa914-a22e-4035-a105-1f2415686107",
   "metadata": {},
   "outputs": [
    {
     "data": {
      "text/html": [
       "<div>\n",
       "<style scoped>\n",
       "    .dataframe tbody tr th:only-of-type {\n",
       "        vertical-align: middle;\n",
       "    }\n",
       "\n",
       "    .dataframe tbody tr th {\n",
       "        vertical-align: top;\n",
       "    }\n",
       "\n",
       "    .dataframe thead th {\n",
       "        text-align: right;\n",
       "    }\n",
       "</style>\n",
       "<table border=\"1\" class=\"dataframe\">\n",
       "  <thead>\n",
       "    <tr style=\"text-align: right;\">\n",
       "      <th></th>\n",
       "      <th>id</th>\n",
       "      <th>name</th>\n",
       "      <th>host_id</th>\n",
       "      <th>host_name</th>\n",
       "      <th>neighbourhood_group</th>\n",
       "      <th>neighbourhood</th>\n",
       "      <th>latitude</th>\n",
       "      <th>longitude</th>\n",
       "      <th>room_type</th>\n",
       "      <th>price</th>\n",
       "      <th>minimum_nights</th>\n",
       "      <th>number_of_reviews</th>\n",
       "      <th>last_review</th>\n",
       "      <th>reviews_per_month</th>\n",
       "      <th>calculated_host_listings_count</th>\n",
       "      <th>availability_365</th>\n",
       "    </tr>\n",
       "  </thead>\n",
       "  <tbody>\n",
       "    <tr>\n",
       "      <th>0</th>\n",
       "      <td>2539</td>\n",
       "      <td>Clean &amp; quiet apt home by the park</td>\n",
       "      <td>2787</td>\n",
       "      <td>John</td>\n",
       "      <td>Brooklyn</td>\n",
       "      <td>Kensington</td>\n",
       "      <td>40.64749</td>\n",
       "      <td>-73.97237</td>\n",
       "      <td>Private room</td>\n",
       "      <td>149</td>\n",
       "      <td>1</td>\n",
       "      <td>9</td>\n",
       "      <td>2018-10-19</td>\n",
       "      <td>0.21</td>\n",
       "      <td>6</td>\n",
       "      <td>365</td>\n",
       "    </tr>\n",
       "    <tr>\n",
       "      <th>1</th>\n",
       "      <td>2595</td>\n",
       "      <td>Skylit Midtown Castle</td>\n",
       "      <td>2845</td>\n",
       "      <td>Jennifer</td>\n",
       "      <td>Manhattan</td>\n",
       "      <td>Midtown</td>\n",
       "      <td>40.75362</td>\n",
       "      <td>-73.98377</td>\n",
       "      <td>Entire home/apt</td>\n",
       "      <td>225</td>\n",
       "      <td>1</td>\n",
       "      <td>45</td>\n",
       "      <td>2019-05-21</td>\n",
       "      <td>0.38</td>\n",
       "      <td>2</td>\n",
       "      <td>355</td>\n",
       "    </tr>\n",
       "    <tr>\n",
       "      <th>2</th>\n",
       "      <td>3647</td>\n",
       "      <td>THE VILLAGE OF HARLEM....NEW YORK !</td>\n",
       "      <td>4632</td>\n",
       "      <td>Elisabeth</td>\n",
       "      <td>Manhattan</td>\n",
       "      <td>Harlem</td>\n",
       "      <td>40.80902</td>\n",
       "      <td>-73.94190</td>\n",
       "      <td>Private room</td>\n",
       "      <td>150</td>\n",
       "      <td>3</td>\n",
       "      <td>0</td>\n",
       "      <td>NaN</td>\n",
       "      <td>NaN</td>\n",
       "      <td>1</td>\n",
       "      <td>365</td>\n",
       "    </tr>\n",
       "    <tr>\n",
       "      <th>3</th>\n",
       "      <td>3831</td>\n",
       "      <td>Cozy Entire Floor of Brownstone</td>\n",
       "      <td>4869</td>\n",
       "      <td>LisaRoxanne</td>\n",
       "      <td>Brooklyn</td>\n",
       "      <td>Clinton Hill</td>\n",
       "      <td>40.68514</td>\n",
       "      <td>-73.95976</td>\n",
       "      <td>Entire home/apt</td>\n",
       "      <td>89</td>\n",
       "      <td>1</td>\n",
       "      <td>270</td>\n",
       "      <td>2019-07-05</td>\n",
       "      <td>4.64</td>\n",
       "      <td>1</td>\n",
       "      <td>194</td>\n",
       "    </tr>\n",
       "    <tr>\n",
       "      <th>4</th>\n",
       "      <td>5022</td>\n",
       "      <td>Entire Apt: Spacious Studio/Loft by central park</td>\n",
       "      <td>7192</td>\n",
       "      <td>Laura</td>\n",
       "      <td>Manhattan</td>\n",
       "      <td>East Harlem</td>\n",
       "      <td>40.79851</td>\n",
       "      <td>-73.94399</td>\n",
       "      <td>Entire home/apt</td>\n",
       "      <td>80</td>\n",
       "      <td>10</td>\n",
       "      <td>9</td>\n",
       "      <td>2018-11-19</td>\n",
       "      <td>0.10</td>\n",
       "      <td>1</td>\n",
       "      <td>0</td>\n",
       "    </tr>\n",
       "  </tbody>\n",
       "</table>\n",
       "</div>"
      ],
      "text/plain": [
       "     id                                              name  host_id  \\\n",
       "0  2539                Clean & quiet apt home by the park     2787   \n",
       "1  2595                             Skylit Midtown Castle     2845   \n",
       "2  3647               THE VILLAGE OF HARLEM....NEW YORK !     4632   \n",
       "3  3831                   Cozy Entire Floor of Brownstone     4869   \n",
       "4  5022  Entire Apt: Spacious Studio/Loft by central park     7192   \n",
       "\n",
       "     host_name neighbourhood_group neighbourhood  latitude  longitude  \\\n",
       "0         John            Brooklyn    Kensington  40.64749  -73.97237   \n",
       "1     Jennifer           Manhattan       Midtown  40.75362  -73.98377   \n",
       "2    Elisabeth           Manhattan        Harlem  40.80902  -73.94190   \n",
       "3  LisaRoxanne            Brooklyn  Clinton Hill  40.68514  -73.95976   \n",
       "4        Laura           Manhattan   East Harlem  40.79851  -73.94399   \n",
       "\n",
       "         room_type  price  minimum_nights  number_of_reviews last_review  \\\n",
       "0     Private room    149               1                  9  2018-10-19   \n",
       "1  Entire home/apt    225               1                 45  2019-05-21   \n",
       "2     Private room    150               3                  0         NaN   \n",
       "3  Entire home/apt     89               1                270  2019-07-05   \n",
       "4  Entire home/apt     80              10                  9  2018-11-19   \n",
       "\n",
       "   reviews_per_month  calculated_host_listings_count  availability_365  \n",
       "0               0.21                               6               365  \n",
       "1               0.38                               2               355  \n",
       "2                NaN                               1               365  \n",
       "3               4.64                               1               194  \n",
       "4               0.10                               1                 0  "
      ]
     },
     "execution_count": 3,
     "metadata": {},
     "output_type": "execute_result"
    }
   ],
   "source": [
    "# Displaying the first few rows\n",
    "df.head()"
   ]
  },
  {
   "cell_type": "code",
   "execution_count": 4,
   "id": "97a66ddb-2bae-44a2-b2d2-b6604f7629b7",
   "metadata": {},
   "outputs": [
    {
     "name": "stdout",
     "output_type": "stream",
     "text": [
      "Rows:  48895\n",
      "columns:  16\n"
     ]
    }
   ],
   "source": [
    "# Checking the number of rows and columns in the data\n",
    "rows, columns = df.shape\n",
    "print(f\"Rows: \", rows)\n",
    "print(f\"columns: \", columns)"
   ]
  },
  {
   "cell_type": "code",
   "execution_count": 5,
   "id": "1274154e-9594-40af-b101-caf6f3ff309b",
   "metadata": {},
   "outputs": [
    {
     "name": "stdout",
     "output_type": "stream",
     "text": [
      "<class 'pandas.core.frame.DataFrame'>\n",
      "RangeIndex: 48895 entries, 0 to 48894\n",
      "Data columns (total 16 columns):\n",
      " #   Column                          Non-Null Count  Dtype  \n",
      "---  ------                          --------------  -----  \n",
      " 0   id                              48895 non-null  int64  \n",
      " 1   name                            48879 non-null  object \n",
      " 2   host_id                         48895 non-null  int64  \n",
      " 3   host_name                       48874 non-null  object \n",
      " 4   neighbourhood_group             48895 non-null  object \n",
      " 5   neighbourhood                   48895 non-null  object \n",
      " 6   latitude                        48895 non-null  float64\n",
      " 7   longitude                       48895 non-null  float64\n",
      " 8   room_type                       48895 non-null  object \n",
      " 9   price                           48895 non-null  int64  \n",
      " 10  minimum_nights                  48895 non-null  int64  \n",
      " 11  number_of_reviews               48895 non-null  int64  \n",
      " 12  last_review                     38843 non-null  object \n",
      " 13  reviews_per_month               38843 non-null  float64\n",
      " 14  calculated_host_listings_count  48895 non-null  int64  \n",
      " 15  availability_365                48895 non-null  int64  \n",
      "dtypes: float64(3), int64(7), object(6)\n",
      "memory usage: 6.0+ MB\n"
     ]
    }
   ],
   "source": [
    "# Show the basic info about the dataset, like column names, data types, and non-null counts\n",
    "df.info()"
   ]
  },
  {
   "cell_type": "code",
   "execution_count": 6,
   "id": "dd37bf86-6c95-4dc7-b677-c02f1e256b30",
   "metadata": {},
   "outputs": [
    {
     "data": {
      "text/html": [
       "<div>\n",
       "<style scoped>\n",
       "    .dataframe tbody tr th:only-of-type {\n",
       "        vertical-align: middle;\n",
       "    }\n",
       "\n",
       "    .dataframe tbody tr th {\n",
       "        vertical-align: top;\n",
       "    }\n",
       "\n",
       "    .dataframe thead th {\n",
       "        text-align: right;\n",
       "    }\n",
       "</style>\n",
       "<table border=\"1\" class=\"dataframe\">\n",
       "  <thead>\n",
       "    <tr style=\"text-align: right;\">\n",
       "      <th></th>\n",
       "      <th>id</th>\n",
       "      <th>host_id</th>\n",
       "      <th>latitude</th>\n",
       "      <th>longitude</th>\n",
       "      <th>price</th>\n",
       "      <th>minimum_nights</th>\n",
       "      <th>number_of_reviews</th>\n",
       "      <th>reviews_per_month</th>\n",
       "      <th>calculated_host_listings_count</th>\n",
       "      <th>availability_365</th>\n",
       "    </tr>\n",
       "  </thead>\n",
       "  <tbody>\n",
       "    <tr>\n",
       "      <th>count</th>\n",
       "      <td>4.889500e+04</td>\n",
       "      <td>4.889500e+04</td>\n",
       "      <td>48895.000000</td>\n",
       "      <td>48895.000000</td>\n",
       "      <td>48895.000000</td>\n",
       "      <td>48895.000000</td>\n",
       "      <td>48895.000000</td>\n",
       "      <td>38843.000000</td>\n",
       "      <td>48895.000000</td>\n",
       "      <td>48895.000000</td>\n",
       "    </tr>\n",
       "    <tr>\n",
       "      <th>mean</th>\n",
       "      <td>1.901714e+07</td>\n",
       "      <td>6.762001e+07</td>\n",
       "      <td>40.728949</td>\n",
       "      <td>-73.952170</td>\n",
       "      <td>152.720687</td>\n",
       "      <td>7.029962</td>\n",
       "      <td>23.274466</td>\n",
       "      <td>1.373221</td>\n",
       "      <td>7.143982</td>\n",
       "      <td>112.781327</td>\n",
       "    </tr>\n",
       "    <tr>\n",
       "      <th>std</th>\n",
       "      <td>1.098311e+07</td>\n",
       "      <td>7.861097e+07</td>\n",
       "      <td>0.054530</td>\n",
       "      <td>0.046157</td>\n",
       "      <td>240.154170</td>\n",
       "      <td>20.510550</td>\n",
       "      <td>44.550582</td>\n",
       "      <td>1.680442</td>\n",
       "      <td>32.952519</td>\n",
       "      <td>131.622289</td>\n",
       "    </tr>\n",
       "    <tr>\n",
       "      <th>min</th>\n",
       "      <td>2.539000e+03</td>\n",
       "      <td>2.438000e+03</td>\n",
       "      <td>40.499790</td>\n",
       "      <td>-74.244420</td>\n",
       "      <td>0.000000</td>\n",
       "      <td>1.000000</td>\n",
       "      <td>0.000000</td>\n",
       "      <td>0.010000</td>\n",
       "      <td>1.000000</td>\n",
       "      <td>0.000000</td>\n",
       "    </tr>\n",
       "    <tr>\n",
       "      <th>25%</th>\n",
       "      <td>9.471945e+06</td>\n",
       "      <td>7.822033e+06</td>\n",
       "      <td>40.690100</td>\n",
       "      <td>-73.983070</td>\n",
       "      <td>69.000000</td>\n",
       "      <td>1.000000</td>\n",
       "      <td>1.000000</td>\n",
       "      <td>0.190000</td>\n",
       "      <td>1.000000</td>\n",
       "      <td>0.000000</td>\n",
       "    </tr>\n",
       "    <tr>\n",
       "      <th>50%</th>\n",
       "      <td>1.967728e+07</td>\n",
       "      <td>3.079382e+07</td>\n",
       "      <td>40.723070</td>\n",
       "      <td>-73.955680</td>\n",
       "      <td>106.000000</td>\n",
       "      <td>3.000000</td>\n",
       "      <td>5.000000</td>\n",
       "      <td>0.720000</td>\n",
       "      <td>1.000000</td>\n",
       "      <td>45.000000</td>\n",
       "    </tr>\n",
       "    <tr>\n",
       "      <th>75%</th>\n",
       "      <td>2.915218e+07</td>\n",
       "      <td>1.074344e+08</td>\n",
       "      <td>40.763115</td>\n",
       "      <td>-73.936275</td>\n",
       "      <td>175.000000</td>\n",
       "      <td>5.000000</td>\n",
       "      <td>24.000000</td>\n",
       "      <td>2.020000</td>\n",
       "      <td>2.000000</td>\n",
       "      <td>227.000000</td>\n",
       "    </tr>\n",
       "    <tr>\n",
       "      <th>max</th>\n",
       "      <td>3.648724e+07</td>\n",
       "      <td>2.743213e+08</td>\n",
       "      <td>40.913060</td>\n",
       "      <td>-73.712990</td>\n",
       "      <td>10000.000000</td>\n",
       "      <td>1250.000000</td>\n",
       "      <td>629.000000</td>\n",
       "      <td>58.500000</td>\n",
       "      <td>327.000000</td>\n",
       "      <td>365.000000</td>\n",
       "    </tr>\n",
       "  </tbody>\n",
       "</table>\n",
       "</div>"
      ],
      "text/plain": [
       "                 id       host_id      latitude     longitude         price  \\\n",
       "count  4.889500e+04  4.889500e+04  48895.000000  48895.000000  48895.000000   \n",
       "mean   1.901714e+07  6.762001e+07     40.728949    -73.952170    152.720687   \n",
       "std    1.098311e+07  7.861097e+07      0.054530      0.046157    240.154170   \n",
       "min    2.539000e+03  2.438000e+03     40.499790    -74.244420      0.000000   \n",
       "25%    9.471945e+06  7.822033e+06     40.690100    -73.983070     69.000000   \n",
       "50%    1.967728e+07  3.079382e+07     40.723070    -73.955680    106.000000   \n",
       "75%    2.915218e+07  1.074344e+08     40.763115    -73.936275    175.000000   \n",
       "max    3.648724e+07  2.743213e+08     40.913060    -73.712990  10000.000000   \n",
       "\n",
       "       minimum_nights  number_of_reviews  reviews_per_month  \\\n",
       "count    48895.000000       48895.000000       38843.000000   \n",
       "mean         7.029962          23.274466           1.373221   \n",
       "std         20.510550          44.550582           1.680442   \n",
       "min          1.000000           0.000000           0.010000   \n",
       "25%          1.000000           1.000000           0.190000   \n",
       "50%          3.000000           5.000000           0.720000   \n",
       "75%          5.000000          24.000000           2.020000   \n",
       "max       1250.000000         629.000000          58.500000   \n",
       "\n",
       "       calculated_host_listings_count  availability_365  \n",
       "count                    48895.000000      48895.000000  \n",
       "mean                         7.143982        112.781327  \n",
       "std                         32.952519        131.622289  \n",
       "min                          1.000000          0.000000  \n",
       "25%                          1.000000          0.000000  \n",
       "50%                          1.000000         45.000000  \n",
       "75%                          2.000000        227.000000  \n",
       "max                        327.000000        365.000000  "
      ]
     },
     "execution_count": 6,
     "metadata": {},
     "output_type": "execute_result"
    }
   ],
   "source": [
    "# Display summary statistics for numerical columns to identify range and outliers\n",
    "df.describe()"
   ]
  },
  {
   "cell_type": "code",
   "execution_count": 7,
   "id": "31873fe1-4da6-4cfe-8324-216538dbcd13",
   "metadata": {},
   "outputs": [
    {
     "name": "stdout",
     "output_type": "stream",
     "text": [
      "Unique values in name: 47905\n",
      "Unique values in host_name: 11452\n",
      "Unique values in neighbourhood_group: 5\n",
      "Unique values in neighbourhood: 221\n",
      "Unique values in room_type: 3\n",
      "Unique values in last_review: 1764\n"
     ]
    }
   ],
   "source": [
    "# Unique values for each column to understand categorical variables better\n",
    "for column in df.select_dtypes(include='object').columns:\n",
    "    print(f\"Unique values in {column}: {df[column].nunique()}\")"
   ]
  },
  {
   "cell_type": "code",
   "execution_count": 8,
   "id": "488d9bc5-838b-4161-9e0d-1c70b067d453",
   "metadata": {},
   "outputs": [
    {
     "data": {
      "text/plain": [
       "id                                    0\n",
       "name                                 16\n",
       "host_id                               0\n",
       "host_name                            21\n",
       "neighbourhood_group                   0\n",
       "neighbourhood                         0\n",
       "latitude                              0\n",
       "longitude                             0\n",
       "room_type                             0\n",
       "price                                 0\n",
       "minimum_nights                        0\n",
       "number_of_reviews                     0\n",
       "last_review                       10052\n",
       "reviews_per_month                 10052\n",
       "calculated_host_listings_count        0\n",
       "availability_365                      0\n",
       "dtype: int64"
      ]
     },
     "execution_count": 8,
     "metadata": {},
     "output_type": "execute_result"
    }
   ],
   "source": [
    "# Checking for missing values in each column\n",
    "df.isnull().sum()"
   ]
  },
  {
   "cell_type": "markdown",
   "id": "27892054-6b9f-4d2a-a2f5-87536c1ece95",
   "metadata": {},
   "source": [
    "### Handling missing values"
   ]
  },
  {
   "cell_type": "code",
   "execution_count": 9,
   "id": "e56fbd98-b055-4eff-a64f-7ea6ba150c28",
   "metadata": {},
   "outputs": [],
   "source": [
    "# Replacing missing values in name column with \"Unknown\"\n",
    "df.fillna({'name':\"Unknown\"}, inplace=True)"
   ]
  },
  {
   "cell_type": "code",
   "execution_count": 10,
   "id": "61f7597c-ac7c-47df-9240-393a889a7951",
   "metadata": {},
   "outputs": [
    {
     "name": "stdout",
     "output_type": "stream",
     "text": [
      "Nulls in name column: 0\n"
     ]
    }
   ],
   "source": [
    "# confirm that the action took place\n",
    "null_names = df['name'].isnull().sum()\n",
    "print(f\"Nulls in name column: {null_names}\")"
   ]
  },
  {
   "cell_type": "code",
   "execution_count": 11,
   "id": "a8c285d8-c473-4a39-911c-4442a9089265",
   "metadata": {},
   "outputs": [],
   "source": [
    "# Drop rows with missing host_name. \n",
    "# A room has to be occupied by someone, so blanks in this field don't make sense hence their removal\n",
    "df.dropna(subset=['host_name'], inplace=True)"
   ]
  },
  {
   "cell_type": "code",
   "execution_count": 12,
   "id": "806b95f8-50c2-481b-a93e-a4c3605e911a",
   "metadata": {},
   "outputs": [
    {
     "name": "stdout",
     "output_type": "stream",
     "text": [
      "nulls in host_name column: 0\n"
     ]
    }
   ],
   "source": [
    "# Confirm blank host names were removed\n",
    "null_host_names = df['host_name'].isnull().sum()\n",
    "print(f\"nulls in host_name column: {null_host_names}\")"
   ]
  },
  {
   "cell_type": "code",
   "execution_count": 13,
   "id": "32219535-2134-435e-a23f-4cfe17112e1e",
   "metadata": {},
   "outputs": [],
   "source": [
    "# Convert last_review to datetime as it is currently an object\n",
    "df['last_review'] = pd.to_datetime(df['last_review'], errors='coerce')"
   ]
  },
  {
   "cell_type": "code",
   "execution_count": 14,
   "id": "9b565923-9ece-4efc-90fa-7843fa27e3d6",
   "metadata": {},
   "outputs": [
    {
     "data": {
      "text/plain": [
       "id                                    0\n",
       "name                                  0\n",
       "host_id                               0\n",
       "host_name                             0\n",
       "neighbourhood_group                   0\n",
       "neighbourhood                         0\n",
       "latitude                              0\n",
       "longitude                             0\n",
       "room_type                             0\n",
       "price                                 0\n",
       "minimum_nights                        0\n",
       "number_of_reviews                     0\n",
       "last_review                       10047\n",
       "reviews_per_month                 10047\n",
       "calculated_host_listings_count        0\n",
       "availability_365                      0\n",
       "dtype: int64"
      ]
     },
     "execution_count": 14,
     "metadata": {},
     "output_type": "execute_result"
    }
   ],
   "source": [
    "# Rechecking the missing values after filling them in\n",
    "df.isnull().sum()"
   ]
  },
  {
   "cell_type": "code",
   "execution_count": 15,
   "id": "f243583e-a2d0-472a-a65a-ae5f48a3e6ed",
   "metadata": {},
   "outputs": [
    {
     "name": "stdout",
     "output_type": "stream",
     "text": [
      "Duplicate rows: 0\n"
     ]
    }
   ],
   "source": [
    "# Checking for duplicates\n",
    "duplicates = df.duplicated().sum()\n",
    "print(f\"Duplicate rows: {duplicates}\")"
   ]
  },
  {
   "cell_type": "markdown",
   "id": "bfb446cd-684e-4096-be4d-fb321e0541c5",
   "metadata": {},
   "source": [
    "### Outlier Detection and Handling"
   ]
  },
  {
   "cell_type": "code",
   "execution_count": 16,
   "id": "5fcb1b35-bd78-4f7f-b542-01284ca2c084",
   "metadata": {},
   "outputs": [],
   "source": [
    "# Here we consider logical ranges for price, minimum_nights, and availability_365"
   ]
  },
  {
   "cell_type": "code",
   "execution_count": 17,
   "id": "f4c4cc92-38ea-4ba6-8124-2ffe25aaa189",
   "metadata": {},
   "outputs": [],
   "source": [
    "# Price - Only keep listings within a reasonable range e.g. under $1000 per night\n",
    "df = df[df['price'] <= 1000]"
   ]
  },
  {
   "cell_type": "code",
   "execution_count": 18,
   "id": "08dbc6ba-00fe-416f-ae52-6213f695fcad",
   "metadata": {},
   "outputs": [],
   "source": [
    "# Minimum Nights - Filter out listings with unrealistic minimum stay requirements\n",
    "df = df[df['minimum_nights'] <= 365]"
   ]
  },
  {
   "cell_type": "code",
   "execution_count": 19,
   "id": "319f3964-f2f6-4bff-aaa5-044e28861df7",
   "metadata": {},
   "outputs": [],
   "source": [
    "# Availability - Remove listings with no availability over the year, assuming they’re inactive\n",
    "df = df[df['availability_365'] > 0]"
   ]
  },
  {
   "cell_type": "markdown",
   "id": "6c41f9a8-563e-4d7c-8087-eb7dc16470ac",
   "metadata": {},
   "source": [
    "### Standardize Text Data"
   ]
  },
  {
   "cell_type": "markdown",
   "id": "acdab2ff-4597-4a5f-8163-dc53317478ec",
   "metadata": {},
   "source": [
    "Because python is sensitive with case, we will perform standardization on the columns with text data"
   ]
  },
  {
   "cell_type": "code",
   "execution_count": 20,
   "id": "af7c53bb-02bc-4d45-8c94-5038299f7cdf",
   "metadata": {},
   "outputs": [],
   "source": [
    "# Convert neighbourhood and host_name to lowercase for uniformity\n",
    "df['neighbourhood'] = df['neighbourhood'].str.lower()\n",
    "df['host_name'] = df['host_name'].str.lower()"
   ]
  },
  {
   "cell_type": "markdown",
   "id": "92611061-2f6d-4576-b4f3-6abd32c01872",
   "metadata": {},
   "source": [
    "### Drop Irrelevant Columns"
   ]
  },
  {
   "cell_type": "code",
   "execution_count": 21,
   "id": "70e9edf7-646a-4074-b684-b2699da993d2",
   "metadata": {},
   "outputs": [],
   "source": [
    "# Drop columns like 'id' and 'host_id' if they are not relevant to the analysis\n",
    "df.drop(columns=['id', 'host_id'], inplace=True)"
   ]
  },
  {
   "cell_type": "markdown",
   "id": "4a99d5ca-c324-48dc-80d5-fa1083b37e08",
   "metadata": {},
   "source": [
    "### Data consistency validation"
   ]
  },
  {
   "cell_type": "code",
   "execution_count": 22,
   "id": "5bfc13f8-8e8f-4378-832f-64ce84fbd112",
   "metadata": {},
   "outputs": [],
   "source": [
    "# Listings with 0 price might indicate missing or incorrect data\n",
    "df = df[df['price'] > 0]"
   ]
  },
  {
   "cell_type": "code",
   "execution_count": 23,
   "id": "798bfae3-e0c2-410d-85cc-f1081d9384f2",
   "metadata": {},
   "outputs": [],
   "source": [
    "# Listings with a last_review but no reviews might be inconsistent; set last_review to NaN in such cases\n",
    "df.loc[df['reviews_per_month'] == 0, 'last_review'] = pd.NaT"
   ]
  },
  {
   "cell_type": "markdown",
   "id": "397fd386-49c3-424c-86de-9ed946ffc7e6",
   "metadata": {},
   "source": [
    "### Re-verify Data Cleanliness"
   ]
  },
  {
   "cell_type": "code",
   "execution_count": 24,
   "id": "f4a438ea-acb4-4247-8883-9d3d53ccaff1",
   "metadata": {},
   "outputs": [],
   "source": [
    "# Printing out a summaries to confirm the dataset is clean"
   ]
  },
  {
   "cell_type": "code",
   "execution_count": 25,
   "id": "53f4163a-80b3-4489-a07a-f4595b246f9a",
   "metadata": {},
   "outputs": [
    {
     "name": "stdout",
     "output_type": "stream",
     "text": [
      "\n",
      "Final dataset summary:\n",
      "<class 'pandas.core.frame.DataFrame'>\n",
      "Index: 31160 entries, 0 to 48894\n",
      "Data columns (total 14 columns):\n",
      " #   Column                          Non-Null Count  Dtype         \n",
      "---  ------                          --------------  -----         \n",
      " 0   name                            31160 non-null  object        \n",
      " 1   host_name                       31160 non-null  object        \n",
      " 2   neighbourhood_group             31160 non-null  object        \n",
      " 3   neighbourhood                   31160 non-null  object        \n",
      " 4   latitude                        31160 non-null  float64       \n",
      " 5   longitude                       31160 non-null  float64       \n",
      " 6   room_type                       31160 non-null  object        \n",
      " 7   price                           31160 non-null  int64         \n",
      " 8   minimum_nights                  31160 non-null  int64         \n",
      " 9   number_of_reviews               31160 non-null  int64         \n",
      " 10  last_review                     26047 non-null  datetime64[ns]\n",
      " 11  reviews_per_month               26047 non-null  float64       \n",
      " 12  calculated_host_listings_count  31160 non-null  int64         \n",
      " 13  availability_365                31160 non-null  int64         \n",
      "dtypes: datetime64[ns](1), float64(3), int64(5), object(5)\n",
      "memory usage: 3.6+ MB\n",
      "None\n",
      "\n",
      "Check for any remaining missing values:\n",
      "name                                 0\n",
      "host_name                            0\n",
      "neighbourhood_group                  0\n",
      "neighbourhood                        0\n",
      "latitude                             0\n",
      "longitude                            0\n",
      "room_type                            0\n",
      "price                                0\n",
      "minimum_nights                       0\n",
      "number_of_reviews                    0\n",
      "last_review                       5113\n",
      "reviews_per_month                 5113\n",
      "calculated_host_listings_count       0\n",
      "availability_365                     0\n",
      "dtype: int64\n",
      "\n",
      "Check descriptive statistics for any new potential outliers:\n",
      "           latitude     longitude         price  minimum_nights  \\\n",
      "count  31160.000000  31160.000000  31160.000000    31160.000000   \n",
      "mean      40.728393    -73.948591    149.146630        7.975834   \n",
      "min       40.499790    -74.244420     10.000000        1.000000   \n",
      "25%       40.688330    -73.983160     70.000000        2.000000   \n",
      "50%       40.723615    -73.954000    110.000000        3.000000   \n",
      "75%       40.763042    -73.929988    185.000000        5.000000   \n",
      "max       40.913060    -73.712990   1000.000000      365.000000   \n",
      "std        0.056599      0.051412    125.784682       17.983702   \n",
      "\n",
      "       number_of_reviews                    last_review  reviews_per_month  \\\n",
      "count       31160.000000                          26047       26047.000000   \n",
      "mean           31.982670  2019-03-20 11:44:22.924712960           1.813660   \n",
      "min             0.000000            2011-04-25 00:00:00           0.010000   \n",
      "25%             2.000000            2019-04-28 00:00:00           0.450000   \n",
      "50%            10.000000            2019-06-16 00:00:00           1.240000   \n",
      "75%            39.000000            2019-06-28 00:00:00           2.690000   \n",
      "max           629.000000            2019-07-08 00:00:00          58.500000   \n",
      "std            51.734729                            NaN           1.807052   \n",
      "\n",
      "       calculated_host_listings_count  availability_365  \n",
      "count                    31160.000000      31160.000000  \n",
      "mean                        10.376123        175.351476  \n",
      "min                          1.000000          1.000000  \n",
      "25%                          1.000000         55.000000  \n",
      "50%                          1.000000        167.000000  \n",
      "75%                          3.000000        304.000000  \n",
      "max                        327.000000        365.000000  \n",
      "std                         40.817063        126.085799  \n"
     ]
    }
   ],
   "source": [
    "print(\"\\nFinal dataset summary:\")\n",
    "print(df.info())\n",
    "print(\"\\nCheck for any remaining missing values:\")\n",
    "print(df.isnull().sum())\n",
    "print(\"\\nCheck descriptive statistics for any new potential outliers:\")\n",
    "print(df.describe())"
   ]
  },
  {
   "cell_type": "markdown",
   "id": "1d4c2708-3da5-499e-aabe-448d137dd279",
   "metadata": {},
   "source": [
    "# Step 2: Data Restructuring"
   ]
  },
  {
   "cell_type": "code",
   "execution_count": 26,
   "id": "53a4ffc7-56e0-4fcc-99c0-941bcb69ca6c",
   "metadata": {},
   "outputs": [
    {
     "name": "stdout",
     "output_type": "stream",
     "text": [
      "\n",
      "Unique values in 'room_type': ['Private room' 'Entire home/apt' 'Shared room']\n",
      "Unique values in 'neighbourhood_group': ['Brooklyn' 'Manhattan' 'Queens' 'Staten Island' 'Bronx']\n"
     ]
    }
   ],
   "source": [
    "# Examining categorical columns for restructuring or encoding\n",
    "print(\"\\nUnique values in 'room_type':\", df['room_type'].unique())\n",
    "print(\"Unique values in 'neighbourhood_group':\", df['neighbourhood_group'].unique())"
   ]
  },
  {
   "cell_type": "code",
   "execution_count": 27,
   "id": "5fd873d6-c48f-4fc6-bf0c-cc0ae9e05f61",
   "metadata": {},
   "outputs": [],
   "source": [
    "# Encoding categorical columns using dummy variables\n",
    "df = pd.get_dummies(df, columns=['neighbourhood_group', 'room_type'], drop_first=True)"
   ]
  },
  {
   "cell_type": "code",
   "execution_count": 28,
   "id": "42b0c120-b65f-4e6e-bb89-818b41b4da21",
   "metadata": {},
   "outputs": [
    {
     "name": "stdout",
     "output_type": "stream",
     "text": [
      "<class 'pandas.core.frame.DataFrame'>\n",
      "Index: 31160 entries, 0 to 48894\n",
      "Data columns (total 18 columns):\n",
      " #   Column                             Non-Null Count  Dtype         \n",
      "---  ------                             --------------  -----         \n",
      " 0   name                               31160 non-null  object        \n",
      " 1   host_name                          31160 non-null  object        \n",
      " 2   neighbourhood                      31160 non-null  object        \n",
      " 3   latitude                           31160 non-null  float64       \n",
      " 4   longitude                          31160 non-null  float64       \n",
      " 5   price                              31160 non-null  int64         \n",
      " 6   minimum_nights                     31160 non-null  int64         \n",
      " 7   number_of_reviews                  31160 non-null  int64         \n",
      " 8   last_review                        26047 non-null  datetime64[ns]\n",
      " 9   reviews_per_month                  26047 non-null  float64       \n",
      " 10  calculated_host_listings_count     31160 non-null  int64         \n",
      " 11  availability_365                   31160 non-null  int64         \n",
      " 12  neighbourhood_group_Brooklyn       31160 non-null  bool          \n",
      " 13  neighbourhood_group_Manhattan      31160 non-null  bool          \n",
      " 14  neighbourhood_group_Queens         31160 non-null  bool          \n",
      " 15  neighbourhood_group_Staten Island  31160 non-null  bool          \n",
      " 16  room_type_Private room             31160 non-null  bool          \n",
      " 17  room_type_Shared room              31160 non-null  bool          \n",
      "dtypes: bool(6), datetime64[ns](1), float64(3), int64(5), object(3)\n",
      "memory usage: 3.3+ MB\n",
      "None\n"
     ]
    }
   ],
   "source": [
    "# confirm the new columns\n",
    "print(df.info())"
   ]
  },
  {
   "cell_type": "code",
   "execution_count": 29,
   "id": "328a93c5-f157-4f7a-9208-83d495120762",
   "metadata": {},
   "outputs": [],
   "source": [
    "# Placing price into 3 bins. The categories: low, medium, and high based on domain knowledge or quartiles\n",
    "df['price_category'] = pd.qcut(df['price'], q=3, labels=['Low', 'Medium', 'High'])"
   ]
  },
  {
   "cell_type": "code",
   "execution_count": 30,
   "id": "df7d1829-cb88-4b9c-834d-76b0ff02fd31",
   "metadata": {},
   "outputs": [],
   "source": [
    "# Placing minimum_nights into 3 bins; short, medium, and long stays\n",
    "df['stay_length'] = pd.cut(df['minimum_nights'], bins=[0, 7, 30, 365], labels=['Short Stay', 'Medium Stay', 'Long Stay'])"
   ]
  },
  {
   "cell_type": "code",
   "execution_count": 31,
   "id": "1c6e7988-bafd-4df7-b8be-4f38d5714c93",
   "metadata": {},
   "outputs": [],
   "source": [
    "# Reset the index to ensure it is sequential after restructuring\n",
    "df.reset_index(drop=True, inplace=True)"
   ]
  },
  {
   "cell_type": "code",
   "execution_count": 32,
   "id": "32b58db2-62f0-487a-b9fa-1134bed992c1",
   "metadata": {},
   "outputs": [
    {
     "name": "stdout",
     "output_type": "stream",
     "text": [
      "\n",
      "Data structure after restructuring:\n",
      "<class 'pandas.core.frame.DataFrame'>\n",
      "RangeIndex: 31160 entries, 0 to 31159\n",
      "Data columns (total 20 columns):\n",
      " #   Column                             Non-Null Count  Dtype         \n",
      "---  ------                             --------------  -----         \n",
      " 0   name                               31160 non-null  object        \n",
      " 1   host_name                          31160 non-null  object        \n",
      " 2   neighbourhood                      31160 non-null  object        \n",
      " 3   latitude                           31160 non-null  float64       \n",
      " 4   longitude                          31160 non-null  float64       \n",
      " 5   price                              31160 non-null  int64         \n",
      " 6   minimum_nights                     31160 non-null  int64         \n",
      " 7   number_of_reviews                  31160 non-null  int64         \n",
      " 8   last_review                        26047 non-null  datetime64[ns]\n",
      " 9   reviews_per_month                  26047 non-null  float64       \n",
      " 10  calculated_host_listings_count     31160 non-null  int64         \n",
      " 11  availability_365                   31160 non-null  int64         \n",
      " 12  neighbourhood_group_Brooklyn       31160 non-null  bool          \n",
      " 13  neighbourhood_group_Manhattan      31160 non-null  bool          \n",
      " 14  neighbourhood_group_Queens         31160 non-null  bool          \n",
      " 15  neighbourhood_group_Staten Island  31160 non-null  bool          \n",
      " 16  room_type_Private room             31160 non-null  bool          \n",
      " 17  room_type_Shared room              31160 non-null  bool          \n",
      " 18  price_category                     31160 non-null  category      \n",
      " 19  stay_length                        31160 non-null  category      \n",
      "dtypes: bool(6), category(2), datetime64[ns](1), float64(3), int64(5), object(3)\n",
      "memory usage: 3.1+ MB\n",
      "None\n",
      "\n",
      "Preview of the transformed dataset:\n",
      "                                        name    host_name neighbourhood  \\\n",
      "0         Clean & quiet apt home by the park         john    kensington   \n",
      "1                      Skylit Midtown Castle     jennifer       midtown   \n",
      "2        THE VILLAGE OF HARLEM....NEW YORK !    elisabeth        harlem   \n",
      "3            Cozy Entire Floor of Brownstone  lisaroxanne  clinton hill   \n",
      "4  Large Cozy 1 BR Apartment In Midtown East        chris   murray hill   \n",
      "\n",
      "   latitude  longitude  price  minimum_nights  number_of_reviews last_review  \\\n",
      "0  40.64749  -73.97237    149               1                  9  2018-10-19   \n",
      "1  40.75362  -73.98377    225               1                 45  2019-05-21   \n",
      "2  40.80902  -73.94190    150               3                  0         NaT   \n",
      "3  40.68514  -73.95976     89               1                270  2019-07-05   \n",
      "4  40.74767  -73.97500    200               3                 74  2019-06-22   \n",
      "\n",
      "   reviews_per_month  calculated_host_listings_count  availability_365  \\\n",
      "0               0.21                               6               365   \n",
      "1               0.38                               2               355   \n",
      "2                NaN                               1               365   \n",
      "3               4.64                               1               194   \n",
      "4               0.59                               1               129   \n",
      "\n",
      "   neighbourhood_group_Brooklyn  neighbourhood_group_Manhattan  \\\n",
      "0                          True                          False   \n",
      "1                         False                           True   \n",
      "2                         False                           True   \n",
      "3                          True                          False   \n",
      "4                         False                           True   \n",
      "\n",
      "   neighbourhood_group_Queens  neighbourhood_group_Staten Island  \\\n",
      "0                       False                              False   \n",
      "1                       False                              False   \n",
      "2                       False                              False   \n",
      "3                       False                              False   \n",
      "4                       False                              False   \n",
      "\n",
      "   room_type_Private room  room_type_Shared room price_category stay_length  \n",
      "0                    True                  False         Medium  Short Stay  \n",
      "1                   False                  False           High  Short Stay  \n",
      "2                    True                  False         Medium  Short Stay  \n",
      "3                   False                  False         Medium  Short Stay  \n",
      "4                   False                  False           High  Short Stay  \n"
     ]
    }
   ],
   "source": [
    "# Summary of the transformed dataset to confirm changes\n",
    "print(\"\\nData structure after restructuring:\")\n",
    "print(df.info())\n",
    "print(\"\\nPreview of the transformed dataset:\")\n",
    "print(df.head())"
   ]
  },
  {
   "cell_type": "markdown",
   "id": "1b88ae80-d06d-4fc6-a396-c85eb69d71c3",
   "metadata": {},
   "source": [
    "# Step 3: Data Aggregation & Summarization"
   ]
  },
  {
   "cell_type": "markdown",
   "id": "1e74accc-0dd8-4d8b-805e-85fb0e716ded",
   "metadata": {},
   "source": [
    "### Grouping by Single Column and Calculating Summary Statistics"
   ]
  },
  {
   "cell_type": "code",
   "execution_count": 33,
   "id": "1117ef6a-26f9-4adb-85f6-46b3151eed60",
   "metadata": {},
   "outputs": [
    {
     "name": "stdout",
     "output_type": "stream",
     "text": [
      "\n",
      "Neighbourhood Price Summary:\n",
      "                avg_price  median_price  price_std_dev  min_price  max_price\n",
      "neighbourhood                                                               \n",
      "allerton        91.702703          75.0      76.842142         33        450\n",
      "arden heights   76.000000          75.0       6.557439         70         83\n",
      "arrochar       115.000000          65.0     133.119120         32        625\n",
      "arverne        156.694444         122.5     120.743663         35        750\n",
      "astoria        104.836996          85.0      73.682638         25        700\n"
     ]
    }
   ],
   "source": [
    "# Calculate average price, minimum price, and maximum price for each neighbourhood\n",
    "neighbourhood_summary = df.groupby('neighbourhood').price.agg(['mean', 'median', 'std', 'min', 'max'])\n",
    "neighbourhood_summary = neighbourhood_summary.rename(columns={\n",
    "    'mean': 'avg_price',\n",
    "    'median': 'median_price',\n",
    "    'std': 'price_std_dev',\n",
    "    'min': 'min_price',\n",
    "    'max': 'max_price'\n",
    "})\n",
    "print(f\"\\nNeighbourhood Price Summary:\\n{neighbourhood_summary.head()}\")"
   ]
  },
  {
   "cell_type": "markdown",
   "id": "742a3ce1-51b0-4f9a-a8b4-fbf40b6b4aef",
   "metadata": {},
   "source": [
    "### Grouping by Multiple Columns (e.g., Neighbourhood and Room Type)"
   ]
  },
  {
   "cell_type": "code",
   "execution_count": 34,
   "id": "1b8775d0-fde4-4998-a14f-01cb9d36a172",
   "metadata": {},
   "outputs": [],
   "source": [
    "# Recreating the Room Type Column from the Dummy Variables made earlier\n",
    "# Create a room_type column based on the dummy variables\n",
    "df['room_type'] = 'Entire home/apt'  # I've set this as the Default category\n",
    "df.loc[df['room_type_Private room'] == 1, 'room_type'] = 'Private room'\n",
    "df.loc[df['room_type_Shared room'] == 1, 'room_type'] = 'Shared room'"
   ]
  },
  {
   "cell_type": "code",
   "execution_count": 35,
   "id": "6cf45564-0821-473a-ae9f-b985379ea1b7",
   "metadata": {},
   "outputs": [
    {
     "name": "stdout",
     "output_type": "stream",
     "text": [
      "\n",
      "Room Type Summary by Neighbourhood:\n",
      "                                    avg_price  avg_availability  \\\n",
      "neighbourhood     room_type                                       \n",
      "fort wadsworth    Entire home/apt  800.000000        365.000000   \n",
      "riverdale         Shared room      800.000000        269.000000   \n",
      "tribeca           Entire home/apt  387.290000        178.190000   \n",
      "flatiron district Entire home/apt  358.538462        197.538462   \n",
      "soho              Entire home/apt  340.411392        151.373418   \n",
      "\n",
      "                                   count_listings  \n",
      "neighbourhood     room_type                        \n",
      "fort wadsworth    Entire home/apt               1  \n",
      "riverdale         Shared room                   1  \n",
      "tribeca           Entire home/apt             100  \n",
      "flatiron district Entire home/apt              39  \n",
      "soho              Entire home/apt             158  \n"
     ]
    }
   ],
   "source": [
    "# Average price and availability by neighbourhood and room type\n",
    "room_type_summary = df.groupby(['neighbourhood', 'room_type']).agg(\n",
    "    avg_price=('price', 'mean'),\n",
    "    avg_availability=('availability_365', 'mean'),\n",
    "    count_listings=('price', 'count')\n",
    ").sort_values(by='avg_price', ascending=False)\n",
    "print(f\"\\nRoom Type Summary by Neighbourhood:\\n{room_type_summary.head()}\")"
   ]
  },
  {
   "cell_type": "markdown",
   "id": "8e9dbf7e-ab5d-4278-aed5-a763885fc0fd",
   "metadata": {},
   "source": [
    "### Frequency Counts"
   ]
  },
  {
   "cell_type": "code",
   "execution_count": 36,
   "id": "0a82ae0b-b203-4650-8cc0-a7914f9b99b6",
   "metadata": {},
   "outputs": [
    {
     "name": "stdout",
     "output_type": "stream",
     "text": [
      "\n",
      "Neighbourhood Listing Counts:\n",
      " neighbourhood\n",
      "bedford-stuyvesant    2470\n",
      "williamsburg          2045\n",
      "harlem                1726\n",
      "bushwick              1446\n",
      "hell's kitchen        1440\n",
      "Name: listing_count, dtype: int64\n"
     ]
    }
   ],
   "source": [
    "# Count the number of listings in each neighbourhood\n",
    "neighbourhood_counts = df['neighbourhood'].value_counts().rename(\"listing_count\")\n",
    "print(\"\\nNeighbourhood Listing Counts:\\n\", neighbourhood_counts.head())"
   ]
  },
  {
   "cell_type": "markdown",
   "id": "6dd8bd4b-3bf0-4c8f-bb3d-f191ffd12bb2",
   "metadata": {},
   "source": [
    "### Create Aggregated Metrics"
   ]
  },
  {
   "cell_type": "code",
   "execution_count": 37,
   "id": "36249fb6-6649-401c-9205-a6c95a77e34b",
   "metadata": {},
   "outputs": [],
   "source": [
    "# Calculate potential revenue: price * availability_365\n",
    "df['potential_revenue'] = df['price'] * df['availability_365']"
   ]
  },
  {
   "cell_type": "code",
   "execution_count": 38,
   "id": "fc865854-afa5-4975-a11b-313278b39734",
   "metadata": {},
   "outputs": [
    {
     "name": "stdout",
     "output_type": "stream",
     "text": [
      "\n",
      "Average Revenue by Neighbourhood:\n",
      " neighbourhood\n",
      "fort wadsworth       292000.000000\n",
      "willowbrook           87399.000000\n",
      "riverdale             75415.428571\n",
      "flatiron district     73137.191489\n",
      "neponsit              70670.000000\n",
      "Name: potential_revenue, dtype: float64\n"
     ]
    }
   ],
   "source": [
    "# Calculate average revenue by neighbourhood\n",
    "revenue_summary = df.groupby('neighbourhood')['potential_revenue'].mean().sort_values(ascending=False)\n",
    "print(\"\\nAverage Revenue by Neighbourhood:\\n\", revenue_summary.head())"
   ]
  },
  {
   "cell_type": "markdown",
   "id": "920be433-8f6e-4a31-8b03-812af40113b3",
   "metadata": {},
   "source": [
    "### Using Pivot Tables for Multi-Level Aggregation"
   ]
  },
  {
   "cell_type": "code",
   "execution_count": 39,
   "id": "0ee974c9-c66d-4d31-bfab-adbb60179fba",
   "metadata": {},
   "outputs": [
    {
     "name": "stdout",
     "output_type": "stream",
     "text": [
      "\n",
      "Price Pivot Table:\n",
      " room_type      Entire home/apt  Private room  Shared room\n",
      "neighbourhood                                            \n",
      "allerton            126.600000     67.909091          NaN\n",
      "arden heights        76.000000           NaN          NaN\n",
      "arrochar            189.700000     47.090909          NaN\n",
      "arverne             201.044444     86.360000    38.000000\n",
      "astoria             152.000000     74.801262    76.764706\n"
     ]
    }
   ],
   "source": [
    "# Pivot table for average price by neighbourhood and room type\n",
    "price_pivot = df.pivot_table(values='price', index='neighbourhood', columns='room_type', aggfunc='mean')\n",
    "print(\"\\nPrice Pivot Table:\\n\", price_pivot.head())"
   ]
  },
  {
   "cell_type": "markdown",
   "id": "32e4fcc2-609e-401c-b3a9-1edaa8b9d2e2",
   "metadata": {},
   "source": [
    "### Identifying Top and Bottom Performers"
   ]
  },
  {
   "cell_type": "code",
   "execution_count": 40,
   "id": "5f2c3827-156b-47f0-9b3a-2efa1f46a6aa",
   "metadata": {},
   "outputs": [
    {
     "name": "stdout",
     "output_type": "stream",
     "text": [
      "\n",
      "Top 5 Neighbourhoods by Avg Price:\n",
      "                     avg_price  median_price  price_std_dev  min_price  \\\n",
      "neighbourhood                                                           \n",
      "fort wadsworth     800.000000         800.0            NaN        800   \n",
      "tribeca            366.848214         301.5     211.332802         80   \n",
      "flatiron district  328.659574         290.0     190.135224         95   \n",
      "noho               303.346154         250.0     144.205040         80   \n",
      "riverdale          291.142857         150.0     292.105248         49   \n",
      "\n",
      "                   max_price  \n",
      "neighbourhood                 \n",
      "fort wadsworth           800  \n",
      "tribeca                 1000  \n",
      "flatiron district        950  \n",
      "noho                     700  \n",
      "riverdale                800  \n"
     ]
    }
   ],
   "source": [
    "# Find top 5 neighborhoods with the highest average price\n",
    "top_neighbourhoods = neighbourhood_summary.sort_values(by='avg_price', ascending=False).head(5)\n",
    "print(\"\\nTop 5 Neighbourhoods by Avg Price:\\n\", top_neighbourhoods)"
   ]
  },
  {
   "cell_type": "code",
   "execution_count": 41,
   "id": "db6f3508-de55-46bb-9fe5-be70d0f74655",
   "metadata": {},
   "outputs": [
    {
     "name": "stdout",
     "output_type": "stream",
     "text": [
      "\n",
      "Bottom 5 Neighbourhoods by Avg Price:\n",
      "                avg_price  median_price  price_std_dev  min_price  max_price\n",
      "neighbourhood                                                              \n",
      "mount eden     42.666667          43.0      12.503333         30         55\n",
      "olinville      43.666667          26.0      31.469562         25         80\n",
      "hunts point    44.625000          40.0      11.769310         35         70\n",
      "port richmond  48.800000          50.0       5.718391         40         55\n",
      "soundview      54.750000          47.0      21.320605         28        103\n"
     ]
    }
   ],
   "source": [
    "# Find bottom 5 neighborhoods with the lowest average price\n",
    "bottom_neighbourhoods = neighbourhood_summary.sort_values(by='avg_price').head(5)\n",
    "print(\"\\nBottom 5 Neighbourhoods by Avg Price:\\n\", bottom_neighbourhoods)"
   ]
  },
  {
   "cell_type": "markdown",
   "id": "ad749f6d-659d-46c0-b4ea-ecc54af5592d",
   "metadata": {},
   "source": [
    "# Step 4. Exploratory Data Analysis"
   ]
  },
  {
   "cell_type": "markdown",
   "id": "ba32c9f3-74fe-431b-9c70-af57edf119fc",
   "metadata": {},
   "source": [
    "### Descriptive Statistics"
   ]
  },
  {
   "cell_type": "code",
   "execution_count": 42,
   "id": "2d08fbd7-ec0d-485c-a4d6-819f7a020e27",
   "metadata": {},
   "outputs": [],
   "source": [
    "# Basic descriptive stats for numerical columns\n",
    "price_desc = df['price'].describe()\n",
    "availability_desc = df['availability_365'].describe()\n",
    "min_nights_desc = df['minimum_nights'].describe()\n",
    "num_reviews_desc = df['number_of_reviews'].describe()"
   ]
  },
  {
   "cell_type": "code",
   "execution_count": 43,
   "id": "559b42a3-9443-4eda-bf6a-ee1d995f0e8c",
   "metadata": {},
   "outputs": [
    {
     "name": "stdout",
     "output_type": "stream",
     "text": [
      "Descriptive Statistics for Price:\n",
      " count    31160.000000\n",
      "mean       149.146630\n",
      "std        125.784682\n",
      "min         10.000000\n",
      "25%         70.000000\n",
      "50%        110.000000\n",
      "75%        185.000000\n",
      "max       1000.000000\n",
      "Name: price, dtype: float64\n",
      "\n",
      "Descriptive Statistics for Availability (days available per year):\n",
      " count    31160.000000\n",
      "mean       175.351476\n",
      "std        126.085799\n",
      "min          1.000000\n",
      "25%         55.000000\n",
      "50%        167.000000\n",
      "75%        304.000000\n",
      "max        365.000000\n",
      "Name: availability_365, dtype: float64\n",
      "\n",
      "Descriptive Statistics for Minimum Nights:\n",
      " count    31160.000000\n",
      "mean         7.975834\n",
      "std         17.983702\n",
      "min          1.000000\n",
      "25%          2.000000\n",
      "50%          3.000000\n",
      "75%          5.000000\n",
      "max        365.000000\n",
      "Name: minimum_nights, dtype: float64\n",
      "\n",
      "Descriptive Statistics for Number of Reviews:\n",
      " count    31160.000000\n",
      "mean        31.982670\n",
      "std         51.734729\n",
      "min          0.000000\n",
      "25%          2.000000\n",
      "50%         10.000000\n",
      "75%         39.000000\n",
      "max        629.000000\n",
      "Name: number_of_reviews, dtype: float64\n"
     ]
    }
   ],
   "source": [
    "# Display Descriptive Statistics\n",
    "print(\"Descriptive Statistics for Price:\\n\", price_desc)\n",
    "print(\"\\nDescriptive Statistics for Availability (days available per year):\\n\", availability_desc)\n",
    "print(\"\\nDescriptive Statistics for Minimum Nights:\\n\", min_nights_desc)\n",
    "print(\"\\nDescriptive Statistics for Number of Reviews:\\n\", num_reviews_desc)"
   ]
  },
  {
   "cell_type": "code",
   "execution_count": 44,
   "id": "2dbc96e6-f229-4840-858c-08b6cee4de55",
   "metadata": {},
   "outputs": [
    {
     "name": "stdout",
     "output_type": "stream",
     "text": [
      "\n",
      "Price Variance: 15821.786291157452\n",
      "Price Standard Deviation: 125.78468225963546\n",
      "Availability Variance: 15897.628698998053\n",
      "Availability Standard Deviation: 126.08579895847927\n"
     ]
    }
   ],
   "source": [
    "# Variance and Standard Deviation (for insight into variability)\n",
    "print(\"\\nPrice Variance:\", df['price'].var())\n",
    "print(\"Price Standard Deviation:\", df['price'].std())\n",
    "print(\"Availability Variance:\", df['availability_365'].var())\n",
    "print(\"Availability Standard Deviation:\", df['availability_365'].std())"
   ]
  },
  {
   "cell_type": "markdown",
   "id": "6786e733-d53a-4537-876c-2a452048c716",
   "metadata": {},
   "source": [
    "### Predictive Insights"
   ]
  },
  {
   "cell_type": "code",
   "execution_count": 48,
   "id": "f9876028-2ddd-4d9b-b007-79c621b95eb5",
   "metadata": {},
   "outputs": [
    {
     "name": "stdout",
     "output_type": "stream",
     "text": [
      "\n",
      "Average Price and Availability by Room Type:\n",
      "                       price  availability_365\n",
      "room_type                                    \n",
      "Entire home/apt  205.589621        171.252198\n",
      "Private room      88.067883        177.574887\n",
      "Shared room       62.698487        217.486612\n"
     ]
    }
   ],
   "source": [
    "# Average price and availability for different room types\n",
    "room_type_stats = df.groupby('room_type')[['price', 'availability_365']].mean()\n",
    "print(\"\\nAverage Price and Availability by Room Type:\\n\", room_type_stats)"
   ]
  },
  {
   "cell_type": "code",
   "execution_count": 50,
   "id": "20b2c12b-0728-477f-a5ad-71a04c9a11d1",
   "metadata": {},
   "outputs": [],
   "source": [
    "# Reconstructing the neighbourhood_group column from the dummy variables\n",
    "df['neighbourhood_group'] = np.select(\n",
    "    [df['neighbourhood_group_Brooklyn'],df['neighbourhood_group_Manhattan'],df['neighbourhood_group_Queens'],df['neighbourhood_group_Staten Island']],\n",
    "    ['Brooklyn','Manhattan','Queens','Staten Island'],default='Unknown')"
   ]
  },
  {
   "cell_type": "code",
   "execution_count": 52,
   "id": "ef606850-469a-480d-a239-f0cac4b24252",
   "metadata": {},
   "outputs": [
    {
     "name": "stdout",
     "output_type": "stream",
     "text": [
      "\n",
      "Average Price by Neighbourhood Group:\n",
      " neighbourhood_group\n",
      "Manhattan        192.597304\n",
      "Brooklyn         125.841553\n",
      "Queens            96.814789\n",
      "Staten Island     95.927052\n",
      "Unknown           86.474204\n",
      "Name: price, dtype: float64\n"
     ]
    }
   ],
   "source": [
    "# The average price by neighbourhood group\n",
    "neighbourhood_group_price = df.groupby('neighbourhood_group')['price'].mean().sort_values(ascending=False)\n",
    "print(\"\\nAverage Price by Neighbourhood Group:\\n\", neighbourhood_group_price)"
   ]
  },
  {
   "cell_type": "code",
   "execution_count": 53,
   "id": "78ee2bc3-546a-44e2-aad9-a9f69862bea3",
   "metadata": {},
   "outputs": [
    {
     "name": "stdout",
     "output_type": "stream",
     "text": [
      "\n",
      "Average Availability and Number of Reviews by Neighbourhood Group:\n",
      "                      availability_365  number_of_reviews\n",
      "neighbourhood_group                                     \n",
      "Brooklyn                   164.013354          34.763395\n",
      "Manhattan                  178.131898          29.128026\n",
      "Queens                     190.250525          33.543504\n",
      "Staten Island              225.267477          33.024316\n",
      "Unknown                    198.145993          29.077936\n"
     ]
    }
   ],
   "source": [
    "# Average availability and number of reviews by neighborhood group\n",
    "neighbourhood_group_avail_reviews = df.groupby('neighbourhood_group')[['availability_365', 'number_of_reviews']].mean()\n",
    "print(\"\\nAverage Availability and Number of Reviews by Neighbourhood Group:\\n\", neighbourhood_group_avail_reviews)"
   ]
  },
  {
   "cell_type": "markdown",
   "id": "462ec180-af9f-4587-bda5-74ba501d3a4b",
   "metadata": {},
   "source": [
    "### Prescriptive Insights"
   ]
  },
  {
   "cell_type": "code",
   "execution_count": 54,
   "id": "3c3055cf-f05d-44ba-9947-47b2cbe2ce9d",
   "metadata": {},
   "outputs": [
    {
     "name": "stdout",
     "output_type": "stream",
     "text": [
      "\n",
      "Average Potential Revenue by Neighbourhood:\n",
      " neighbourhood\n",
      "fort wadsworth        292000.000000\n",
      "willowbrook            87399.000000\n",
      "riverdale              75415.428571\n",
      "flatiron district      73137.191489\n",
      "neponsit               70670.000000\n",
      "midtown                65966.507937\n",
      "tribeca                62296.901786\n",
      "financial district     59783.882662\n",
      "mill basin             57636.500000\n",
      "theater district       55627.535865\n",
      "Name: potential_revenue, dtype: float64\n"
     ]
    }
   ],
   "source": [
    "# Potential revenue (price * availability_365) summarized by neighborhood\n",
    "df['potential_revenue'] = df['price'] * df['availability_365']\n",
    "revenue_summary = df.groupby('neighbourhood')['potential_revenue'].mean().sort_values(ascending=False)\n",
    "print(\"\\nAverage Potential Revenue by Neighbourhood:\\n\", revenue_summary.head(10))"
   ]
  },
  {
   "cell_type": "code",
   "execution_count": 55,
   "id": "d4b16685-485b-44a1-997d-8166daf2f388",
   "metadata": {},
   "outputs": [
    {
     "name": "stdout",
     "output_type": "stream",
     "text": [
      "\n",
      "Average Potential Revenue by Room Type:\n",
      " room_type\n",
      "Entire home/apt    37808.915934\n",
      "Private room       16508.301128\n",
      "Shared room        12849.374854\n",
      "Name: potential_revenue, dtype: float64\n"
     ]
    }
   ],
   "source": [
    "# Calculating total revenue potential for each room type to suggest best performing room type\n",
    "room_type_revenue = df.groupby('room_type')['potential_revenue'].mean().sort_values(ascending=False)\n",
    "print(\"\\nAverage Potential Revenue by Room Type:\\n\", room_type_revenue)"
   ]
  },
  {
   "cell_type": "code",
   "execution_count": 56,
   "id": "3244e2dc-f3f6-4ea7-99cb-128543f42fb2",
   "metadata": {},
   "outputs": [
    {
     "name": "stdout",
     "output_type": "stream",
     "text": [
      "\n",
      "Average Potential Revenue by Minimum Night Requirement:\n",
      " minimum_nights\n",
      "175    126700.000000\n",
      "65      62650.000000\n",
      "360     62301.500000\n",
      "29      53261.490625\n",
      "180     51872.000000\n",
      "153     51625.000000\n",
      "365     49884.857143\n",
      "53      47425.000000\n",
      "56      45625.000000\n",
      "28      44563.235294\n",
      "Name: potential_revenue, dtype: float64\n"
     ]
    }
   ],
   "source": [
    "# Identifying optimal minimum night stays by calculating revenue against minimum nights required\n",
    "min_nights_revenue = df.groupby('minimum_nights')['potential_revenue'].mean().sort_values(ascending=False)\n",
    "print(\"\\nAverage Potential Revenue by Minimum Night Requirement:\\n\", min_nights_revenue.head(10))"
   ]
  },
  {
   "cell_type": "markdown",
   "id": "09b70004-f396-45bc-9f05-43a7ee18ed82",
   "metadata": {},
   "source": [
    "### Insights and Patterns"
   ]
  },
  {
   "cell_type": "code",
   "execution_count": 57,
   "id": "674d312b-3d7e-4914-b12b-dcfff53bd4f7",
   "metadata": {},
   "outputs": [
    {
     "name": "stdout",
     "output_type": "stream",
     "text": [
      "\n",
      "Observations:\n",
      "- Price varies widely across neighbourhoods, with 'Manhattan' having higher prices.\n",
      "- There is a slight positive correlation between price and availability, indicating that higher-priced listings are available more often.\n",
      "- 'Shared rooms' and 'private rooms' tend to be less expensive, especially in areas like 'Brooklyn' and 'Queens'.\n",
      "- Outliers in 'price' and 'minimum_nights' detected, with certain listings charging exceptionally high prices or requiring long minimum stays.\n"
     ]
    }
   ],
   "source": [
    "# These are the summaries and key findings in comments or print statements\n",
    "print(\"\\nObservations:\")\n",
    "print(\"- Price varies widely across neighbourhoods, with 'Manhattan' having higher prices.\")\n",
    "print(\"- There is a slight positive correlation between price and availability, indicating that higher-priced listings are available more often.\")\n",
    "print(\"- 'Shared rooms' and 'private rooms' tend to be less expensive, especially in areas like 'Brooklyn' and 'Queens'.\")\n",
    "print(\"- Outliers in 'price' and 'minimum_nights' detected, with certain listings charging exceptionally high prices or requiring long minimum stays.\")"
   ]
  },
  {
   "cell_type": "code",
   "execution_count": null,
   "id": "53c32c72-db0e-4e2c-a740-3ff459f7db61",
   "metadata": {},
   "outputs": [],
   "source": []
  }
 ],
 "metadata": {
  "kernelspec": {
   "display_name": "Python 3 (ipykernel)",
   "language": "python",
   "name": "python3"
  },
  "language_info": {
   "codemirror_mode": {
    "name": "ipython",
    "version": 3
   },
   "file_extension": ".py",
   "mimetype": "text/x-python",
   "name": "python",
   "nbconvert_exporter": "python",
   "pygments_lexer": "ipython3",
   "version": "3.12.4"
  }
 },
 "nbformat": 4,
 "nbformat_minor": 5
}
