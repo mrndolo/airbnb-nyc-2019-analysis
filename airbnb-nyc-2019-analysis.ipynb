{
 "cells": [
  {
   "cell_type": "code",
   "execution_count": 1,
   "id": "26f5c23d-d273-427a-81bb-dbd8b0ee83f7",
   "metadata": {},
   "outputs": [],
   "source": [
    "# Importing important libraries for this dataset\n",
    "import pandas as pd\n",
    "import numpy as np\n",
    "import matplotlib.pyplot as plt\n",
    "import seaborn as sns"
   ]
  },
  {
   "cell_type": "markdown",
   "id": "df4f6b8f-6c84-47b0-ac5e-ca91a146b7cd",
   "metadata": {},
   "source": [
    "# Step 1: Data Cleaning"
   ]
  },
  {
   "cell_type": "code",
   "execution_count": 2,
   "id": "0fb3aa0c-c3c4-43e3-9277-ece588f9c559",
   "metadata": {},
   "outputs": [],
   "source": [
    "# Loading the dataset\n",
    "df = pd.read_csv('AB_NYC_2019.csv')"
   ]
  },
  {
   "cell_type": "markdown",
   "id": "c96276d6-b4cb-4877-95c0-b29247517752",
   "metadata": {},
   "source": [
    "### Inspecting the dataset"
   ]
  },
  {
   "cell_type": "code",
   "execution_count": 3,
   "id": "3d9aa914-a22e-4035-a105-1f2415686107",
   "metadata": {},
   "outputs": [
    {
     "data": {
      "text/html": [
       "<div>\n",
       "<style scoped>\n",
       "    .dataframe tbody tr th:only-of-type {\n",
       "        vertical-align: middle;\n",
       "    }\n",
       "\n",
       "    .dataframe tbody tr th {\n",
       "        vertical-align: top;\n",
       "    }\n",
       "\n",
       "    .dataframe thead th {\n",
       "        text-align: right;\n",
       "    }\n",
       "</style>\n",
       "<table border=\"1\" class=\"dataframe\">\n",
       "  <thead>\n",
       "    <tr style=\"text-align: right;\">\n",
       "      <th></th>\n",
       "      <th>id</th>\n",
       "      <th>name</th>\n",
       "      <th>host_id</th>\n",
       "      <th>host_name</th>\n",
       "      <th>neighbourhood_group</th>\n",
       "      <th>neighbourhood</th>\n",
       "      <th>latitude</th>\n",
       "      <th>longitude</th>\n",
       "      <th>room_type</th>\n",
       "      <th>price</th>\n",
       "      <th>minimum_nights</th>\n",
       "      <th>number_of_reviews</th>\n",
       "      <th>last_review</th>\n",
       "      <th>reviews_per_month</th>\n",
       "      <th>calculated_host_listings_count</th>\n",
       "      <th>availability_365</th>\n",
       "    </tr>\n",
       "  </thead>\n",
       "  <tbody>\n",
       "    <tr>\n",
       "      <th>0</th>\n",
       "      <td>2539</td>\n",
       "      <td>Clean &amp; quiet apt home by the park</td>\n",
       "      <td>2787</td>\n",
       "      <td>John</td>\n",
       "      <td>Brooklyn</td>\n",
       "      <td>Kensington</td>\n",
       "      <td>40.64749</td>\n",
       "      <td>-73.97237</td>\n",
       "      <td>Private room</td>\n",
       "      <td>149</td>\n",
       "      <td>1</td>\n",
       "      <td>9</td>\n",
       "      <td>2018-10-19</td>\n",
       "      <td>0.21</td>\n",
       "      <td>6</td>\n",
       "      <td>365</td>\n",
       "    </tr>\n",
       "    <tr>\n",
       "      <th>1</th>\n",
       "      <td>2595</td>\n",
       "      <td>Skylit Midtown Castle</td>\n",
       "      <td>2845</td>\n",
       "      <td>Jennifer</td>\n",
       "      <td>Manhattan</td>\n",
       "      <td>Midtown</td>\n",
       "      <td>40.75362</td>\n",
       "      <td>-73.98377</td>\n",
       "      <td>Entire home/apt</td>\n",
       "      <td>225</td>\n",
       "      <td>1</td>\n",
       "      <td>45</td>\n",
       "      <td>2019-05-21</td>\n",
       "      <td>0.38</td>\n",
       "      <td>2</td>\n",
       "      <td>355</td>\n",
       "    </tr>\n",
       "    <tr>\n",
       "      <th>2</th>\n",
       "      <td>3647</td>\n",
       "      <td>THE VILLAGE OF HARLEM....NEW YORK !</td>\n",
       "      <td>4632</td>\n",
       "      <td>Elisabeth</td>\n",
       "      <td>Manhattan</td>\n",
       "      <td>Harlem</td>\n",
       "      <td>40.80902</td>\n",
       "      <td>-73.94190</td>\n",
       "      <td>Private room</td>\n",
       "      <td>150</td>\n",
       "      <td>3</td>\n",
       "      <td>0</td>\n",
       "      <td>NaN</td>\n",
       "      <td>NaN</td>\n",
       "      <td>1</td>\n",
       "      <td>365</td>\n",
       "    </tr>\n",
       "    <tr>\n",
       "      <th>3</th>\n",
       "      <td>3831</td>\n",
       "      <td>Cozy Entire Floor of Brownstone</td>\n",
       "      <td>4869</td>\n",
       "      <td>LisaRoxanne</td>\n",
       "      <td>Brooklyn</td>\n",
       "      <td>Clinton Hill</td>\n",
       "      <td>40.68514</td>\n",
       "      <td>-73.95976</td>\n",
       "      <td>Entire home/apt</td>\n",
       "      <td>89</td>\n",
       "      <td>1</td>\n",
       "      <td>270</td>\n",
       "      <td>2019-07-05</td>\n",
       "      <td>4.64</td>\n",
       "      <td>1</td>\n",
       "      <td>194</td>\n",
       "    </tr>\n",
       "    <tr>\n",
       "      <th>4</th>\n",
       "      <td>5022</td>\n",
       "      <td>Entire Apt: Spacious Studio/Loft by central park</td>\n",
       "      <td>7192</td>\n",
       "      <td>Laura</td>\n",
       "      <td>Manhattan</td>\n",
       "      <td>East Harlem</td>\n",
       "      <td>40.79851</td>\n",
       "      <td>-73.94399</td>\n",
       "      <td>Entire home/apt</td>\n",
       "      <td>80</td>\n",
       "      <td>10</td>\n",
       "      <td>9</td>\n",
       "      <td>2018-11-19</td>\n",
       "      <td>0.10</td>\n",
       "      <td>1</td>\n",
       "      <td>0</td>\n",
       "    </tr>\n",
       "  </tbody>\n",
       "</table>\n",
       "</div>"
      ],
      "text/plain": [
       "     id                                              name  host_id  \\\n",
       "0  2539                Clean & quiet apt home by the park     2787   \n",
       "1  2595                             Skylit Midtown Castle     2845   \n",
       "2  3647               THE VILLAGE OF HARLEM....NEW YORK !     4632   \n",
       "3  3831                   Cozy Entire Floor of Brownstone     4869   \n",
       "4  5022  Entire Apt: Spacious Studio/Loft by central park     7192   \n",
       "\n",
       "     host_name neighbourhood_group neighbourhood  latitude  longitude  \\\n",
       "0         John            Brooklyn    Kensington  40.64749  -73.97237   \n",
       "1     Jennifer           Manhattan       Midtown  40.75362  -73.98377   \n",
       "2    Elisabeth           Manhattan        Harlem  40.80902  -73.94190   \n",
       "3  LisaRoxanne            Brooklyn  Clinton Hill  40.68514  -73.95976   \n",
       "4        Laura           Manhattan   East Harlem  40.79851  -73.94399   \n",
       "\n",
       "         room_type  price  minimum_nights  number_of_reviews last_review  \\\n",
       "0     Private room    149               1                  9  2018-10-19   \n",
       "1  Entire home/apt    225               1                 45  2019-05-21   \n",
       "2     Private room    150               3                  0         NaN   \n",
       "3  Entire home/apt     89               1                270  2019-07-05   \n",
       "4  Entire home/apt     80              10                  9  2018-11-19   \n",
       "\n",
       "   reviews_per_month  calculated_host_listings_count  availability_365  \n",
       "0               0.21                               6               365  \n",
       "1               0.38                               2               355  \n",
       "2                NaN                               1               365  \n",
       "3               4.64                               1               194  \n",
       "4               0.10                               1                 0  "
      ]
     },
     "execution_count": 3,
     "metadata": {},
     "output_type": "execute_result"
    }
   ],
   "source": [
    "# Displaying the first few rows\n",
    "df.head()"
   ]
  },
  {
   "cell_type": "code",
   "execution_count": 4,
   "id": "97a66ddb-2bae-44a2-b2d2-b6604f7629b7",
   "metadata": {},
   "outputs": [
    {
     "name": "stdout",
     "output_type": "stream",
     "text": [
      "Rows:  48895\n",
      "columns:  16\n"
     ]
    }
   ],
   "source": [
    "# Checking the number of rows and columns in the data\n",
    "rows, columns = df.shape\n",
    "print(f\"Rows: \", rows)\n",
    "print(f\"columns: \", columns)"
   ]
  },
  {
   "cell_type": "code",
   "execution_count": 5,
   "id": "1274154e-9594-40af-b101-caf6f3ff309b",
   "metadata": {},
   "outputs": [
    {
     "name": "stdout",
     "output_type": "stream",
     "text": [
      "<class 'pandas.core.frame.DataFrame'>\n",
      "RangeIndex: 48895 entries, 0 to 48894\n",
      "Data columns (total 16 columns):\n",
      " #   Column                          Non-Null Count  Dtype  \n",
      "---  ------                          --------------  -----  \n",
      " 0   id                              48895 non-null  int64  \n",
      " 1   name                            48879 non-null  object \n",
      " 2   host_id                         48895 non-null  int64  \n",
      " 3   host_name                       48874 non-null  object \n",
      " 4   neighbourhood_group             48895 non-null  object \n",
      " 5   neighbourhood                   48895 non-null  object \n",
      " 6   latitude                        48895 non-null  float64\n",
      " 7   longitude                       48895 non-null  float64\n",
      " 8   room_type                       48895 non-null  object \n",
      " 9   price                           48895 non-null  int64  \n",
      " 10  minimum_nights                  48895 non-null  int64  \n",
      " 11  number_of_reviews               48895 non-null  int64  \n",
      " 12  last_review                     38843 non-null  object \n",
      " 13  reviews_per_month               38843 non-null  float64\n",
      " 14  calculated_host_listings_count  48895 non-null  int64  \n",
      " 15  availability_365                48895 non-null  int64  \n",
      "dtypes: float64(3), int64(7), object(6)\n",
      "memory usage: 6.0+ MB\n"
     ]
    }
   ],
   "source": [
    "# Show the basic info about the dataset, like column names, data types, and non-null counts\n",
    "df.info()"
   ]
  },
  {
   "cell_type": "code",
   "execution_count": 6,
   "id": "dd37bf86-6c95-4dc7-b677-c02f1e256b30",
   "metadata": {},
   "outputs": [
    {
     "data": {
      "text/html": [
       "<div>\n",
       "<style scoped>\n",
       "    .dataframe tbody tr th:only-of-type {\n",
       "        vertical-align: middle;\n",
       "    }\n",
       "\n",
       "    .dataframe tbody tr th {\n",
       "        vertical-align: top;\n",
       "    }\n",
       "\n",
       "    .dataframe thead th {\n",
       "        text-align: right;\n",
       "    }\n",
       "</style>\n",
       "<table border=\"1\" class=\"dataframe\">\n",
       "  <thead>\n",
       "    <tr style=\"text-align: right;\">\n",
       "      <th></th>\n",
       "      <th>id</th>\n",
       "      <th>host_id</th>\n",
       "      <th>latitude</th>\n",
       "      <th>longitude</th>\n",
       "      <th>price</th>\n",
       "      <th>minimum_nights</th>\n",
       "      <th>number_of_reviews</th>\n",
       "      <th>reviews_per_month</th>\n",
       "      <th>calculated_host_listings_count</th>\n",
       "      <th>availability_365</th>\n",
       "    </tr>\n",
       "  </thead>\n",
       "  <tbody>\n",
       "    <tr>\n",
       "      <th>count</th>\n",
       "      <td>4.889500e+04</td>\n",
       "      <td>4.889500e+04</td>\n",
       "      <td>48895.000000</td>\n",
       "      <td>48895.000000</td>\n",
       "      <td>48895.000000</td>\n",
       "      <td>48895.000000</td>\n",
       "      <td>48895.000000</td>\n",
       "      <td>38843.000000</td>\n",
       "      <td>48895.000000</td>\n",
       "      <td>48895.000000</td>\n",
       "    </tr>\n",
       "    <tr>\n",
       "      <th>mean</th>\n",
       "      <td>1.901714e+07</td>\n",
       "      <td>6.762001e+07</td>\n",
       "      <td>40.728949</td>\n",
       "      <td>-73.952170</td>\n",
       "      <td>152.720687</td>\n",
       "      <td>7.029962</td>\n",
       "      <td>23.274466</td>\n",
       "      <td>1.373221</td>\n",
       "      <td>7.143982</td>\n",
       "      <td>112.781327</td>\n",
       "    </tr>\n",
       "    <tr>\n",
       "      <th>std</th>\n",
       "      <td>1.098311e+07</td>\n",
       "      <td>7.861097e+07</td>\n",
       "      <td>0.054530</td>\n",
       "      <td>0.046157</td>\n",
       "      <td>240.154170</td>\n",
       "      <td>20.510550</td>\n",
       "      <td>44.550582</td>\n",
       "      <td>1.680442</td>\n",
       "      <td>32.952519</td>\n",
       "      <td>131.622289</td>\n",
       "    </tr>\n",
       "    <tr>\n",
       "      <th>min</th>\n",
       "      <td>2.539000e+03</td>\n",
       "      <td>2.438000e+03</td>\n",
       "      <td>40.499790</td>\n",
       "      <td>-74.244420</td>\n",
       "      <td>0.000000</td>\n",
       "      <td>1.000000</td>\n",
       "      <td>0.000000</td>\n",
       "      <td>0.010000</td>\n",
       "      <td>1.000000</td>\n",
       "      <td>0.000000</td>\n",
       "    </tr>\n",
       "    <tr>\n",
       "      <th>25%</th>\n",
       "      <td>9.471945e+06</td>\n",
       "      <td>7.822033e+06</td>\n",
       "      <td>40.690100</td>\n",
       "      <td>-73.983070</td>\n",
       "      <td>69.000000</td>\n",
       "      <td>1.000000</td>\n",
       "      <td>1.000000</td>\n",
       "      <td>0.190000</td>\n",
       "      <td>1.000000</td>\n",
       "      <td>0.000000</td>\n",
       "    </tr>\n",
       "    <tr>\n",
       "      <th>50%</th>\n",
       "      <td>1.967728e+07</td>\n",
       "      <td>3.079382e+07</td>\n",
       "      <td>40.723070</td>\n",
       "      <td>-73.955680</td>\n",
       "      <td>106.000000</td>\n",
       "      <td>3.000000</td>\n",
       "      <td>5.000000</td>\n",
       "      <td>0.720000</td>\n",
       "      <td>1.000000</td>\n",
       "      <td>45.000000</td>\n",
       "    </tr>\n",
       "    <tr>\n",
       "      <th>75%</th>\n",
       "      <td>2.915218e+07</td>\n",
       "      <td>1.074344e+08</td>\n",
       "      <td>40.763115</td>\n",
       "      <td>-73.936275</td>\n",
       "      <td>175.000000</td>\n",
       "      <td>5.000000</td>\n",
       "      <td>24.000000</td>\n",
       "      <td>2.020000</td>\n",
       "      <td>2.000000</td>\n",
       "      <td>227.000000</td>\n",
       "    </tr>\n",
       "    <tr>\n",
       "      <th>max</th>\n",
       "      <td>3.648724e+07</td>\n",
       "      <td>2.743213e+08</td>\n",
       "      <td>40.913060</td>\n",
       "      <td>-73.712990</td>\n",
       "      <td>10000.000000</td>\n",
       "      <td>1250.000000</td>\n",
       "      <td>629.000000</td>\n",
       "      <td>58.500000</td>\n",
       "      <td>327.000000</td>\n",
       "      <td>365.000000</td>\n",
       "    </tr>\n",
       "  </tbody>\n",
       "</table>\n",
       "</div>"
      ],
      "text/plain": [
       "                 id       host_id      latitude     longitude         price  \\\n",
       "count  4.889500e+04  4.889500e+04  48895.000000  48895.000000  48895.000000   \n",
       "mean   1.901714e+07  6.762001e+07     40.728949    -73.952170    152.720687   \n",
       "std    1.098311e+07  7.861097e+07      0.054530      0.046157    240.154170   \n",
       "min    2.539000e+03  2.438000e+03     40.499790    -74.244420      0.000000   \n",
       "25%    9.471945e+06  7.822033e+06     40.690100    -73.983070     69.000000   \n",
       "50%    1.967728e+07  3.079382e+07     40.723070    -73.955680    106.000000   \n",
       "75%    2.915218e+07  1.074344e+08     40.763115    -73.936275    175.000000   \n",
       "max    3.648724e+07  2.743213e+08     40.913060    -73.712990  10000.000000   \n",
       "\n",
       "       minimum_nights  number_of_reviews  reviews_per_month  \\\n",
       "count    48895.000000       48895.000000       38843.000000   \n",
       "mean         7.029962          23.274466           1.373221   \n",
       "std         20.510550          44.550582           1.680442   \n",
       "min          1.000000           0.000000           0.010000   \n",
       "25%          1.000000           1.000000           0.190000   \n",
       "50%          3.000000           5.000000           0.720000   \n",
       "75%          5.000000          24.000000           2.020000   \n",
       "max       1250.000000         629.000000          58.500000   \n",
       "\n",
       "       calculated_host_listings_count  availability_365  \n",
       "count                    48895.000000      48895.000000  \n",
       "mean                         7.143982        112.781327  \n",
       "std                         32.952519        131.622289  \n",
       "min                          1.000000          0.000000  \n",
       "25%                          1.000000          0.000000  \n",
       "50%                          1.000000         45.000000  \n",
       "75%                          2.000000        227.000000  \n",
       "max                        327.000000        365.000000  "
      ]
     },
     "execution_count": 6,
     "metadata": {},
     "output_type": "execute_result"
    }
   ],
   "source": [
    "# Display summary statistics for numerical columns to identify range and outliers\n",
    "df.describe()"
   ]
  },
  {
   "cell_type": "code",
   "execution_count": 7,
   "id": "31873fe1-4da6-4cfe-8324-216538dbcd13",
   "metadata": {},
   "outputs": [
    {
     "name": "stdout",
     "output_type": "stream",
     "text": [
      "Unique values in name: 47905\n",
      "Unique values in host_name: 11452\n",
      "Unique values in neighbourhood_group: 5\n",
      "Unique values in neighbourhood: 221\n",
      "Unique values in room_type: 3\n",
      "Unique values in last_review: 1764\n"
     ]
    }
   ],
   "source": [
    "# Unique values for each column to understand categorical variables better\n",
    "for column in df.select_dtypes(include='object').columns:\n",
    "    print(f\"Unique values in {column}: {df[column].nunique()}\")"
   ]
  },
  {
   "cell_type": "code",
   "execution_count": 8,
   "id": "488d9bc5-838b-4161-9e0d-1c70b067d453",
   "metadata": {},
   "outputs": [
    {
     "data": {
      "text/plain": [
       "id                                    0\n",
       "name                                 16\n",
       "host_id                               0\n",
       "host_name                            21\n",
       "neighbourhood_group                   0\n",
       "neighbourhood                         0\n",
       "latitude                              0\n",
       "longitude                             0\n",
       "room_type                             0\n",
       "price                                 0\n",
       "minimum_nights                        0\n",
       "number_of_reviews                     0\n",
       "last_review                       10052\n",
       "reviews_per_month                 10052\n",
       "calculated_host_listings_count        0\n",
       "availability_365                      0\n",
       "dtype: int64"
      ]
     },
     "execution_count": 8,
     "metadata": {},
     "output_type": "execute_result"
    }
   ],
   "source": [
    "# Checking for missing values in each column\n",
    "df.isnull().sum()"
   ]
  },
  {
   "cell_type": "markdown",
   "id": "27892054-6b9f-4d2a-a2f5-87536c1ece95",
   "metadata": {},
   "source": [
    "### Handling missing values"
   ]
  },
  {
   "cell_type": "code",
   "execution_count": 10,
   "id": "e56fbd98-b055-4eff-a64f-7ea6ba150c28",
   "metadata": {},
   "outputs": [],
   "source": [
    "# Replacing missing values in name column with \"Unknown\"\n",
    "df.fillna({'name':\"Unknown\"}, inplace=True)"
   ]
  },
  {
   "cell_type": "code",
   "execution_count": 11,
   "id": "61f7597c-ac7c-47df-9240-393a889a7951",
   "metadata": {},
   "outputs": [
    {
     "name": "stdout",
     "output_type": "stream",
     "text": [
      "Nulls in name column: 0\n"
     ]
    }
   ],
   "source": [
    "# confirm that the action took place\n",
    "null_names = df['name'].isnull().sum()\n",
    "print(f\"Nulls in name column: {null_names}\")"
   ]
  },
  {
   "cell_type": "code",
   "execution_count": 12,
   "id": "a8c285d8-c473-4a39-911c-4442a9089265",
   "metadata": {},
   "outputs": [],
   "source": [
    "# Drop rows with missing host_name. \n",
    "# A room has to be occupied by someone, so blanks in this field don't make sense hence their removal\n",
    "df.dropna(subset=['host_name'], inplace=True)"
   ]
  },
  {
   "cell_type": "code",
   "execution_count": 13,
   "id": "806b95f8-50c2-481b-a93e-a4c3605e911a",
   "metadata": {},
   "outputs": [
    {
     "name": "stdout",
     "output_type": "stream",
     "text": [
      "nulls in host_name column: 0\n"
     ]
    }
   ],
   "source": [
    "# Confirm blank host names were removed\n",
    "null_host_names = df['host_name'].isnull().sum()\n",
    "print(f\"nulls in host_name column: {null_host_names}\")"
   ]
  },
  {
   "cell_type": "code",
   "execution_count": 14,
   "id": "32219535-2134-435e-a23f-4cfe17112e1e",
   "metadata": {},
   "outputs": [],
   "source": [
    "# Convert last_review to datetime as it is currently an object\n",
    "df['last_review'] = pd.to_datetime(df['last_review'], errors='coerce')"
   ]
  },
  {
   "cell_type": "code",
   "execution_count": 15,
   "id": "9b565923-9ece-4efc-90fa-7843fa27e3d6",
   "metadata": {},
   "outputs": [
    {
     "data": {
      "text/plain": [
       "id                                    0\n",
       "name                                  0\n",
       "host_id                               0\n",
       "host_name                             0\n",
       "neighbourhood_group                   0\n",
       "neighbourhood                         0\n",
       "latitude                              0\n",
       "longitude                             0\n",
       "room_type                             0\n",
       "price                                 0\n",
       "minimum_nights                        0\n",
       "number_of_reviews                     0\n",
       "last_review                       10047\n",
       "reviews_per_month                 10047\n",
       "calculated_host_listings_count        0\n",
       "availability_365                      0\n",
       "dtype: int64"
      ]
     },
     "execution_count": 15,
     "metadata": {},
     "output_type": "execute_result"
    }
   ],
   "source": [
    "# Rechecking the missing values after filling them in\n",
    "df.isnull().sum()"
   ]
  },
  {
   "cell_type": "code",
   "execution_count": 16,
   "id": "f243583e-a2d0-472a-a65a-ae5f48a3e6ed",
   "metadata": {},
   "outputs": [
    {
     "name": "stdout",
     "output_type": "stream",
     "text": [
      "Duplicate rows: 0\n"
     ]
    }
   ],
   "source": [
    "# Checking for duplicates\n",
    "duplicates = df.duplicated().sum()\n",
    "print(f\"Duplicate rows: {duplicates}\")"
   ]
  },
  {
   "cell_type": "markdown",
   "id": "bfb446cd-684e-4096-be4d-fb321e0541c5",
   "metadata": {},
   "source": [
    "### Outlier Detection and Handling"
   ]
  },
  {
   "cell_type": "code",
   "execution_count": null,
   "id": "5fcb1b35-bd78-4f7f-b542-01284ca2c084",
   "metadata": {},
   "outputs": [],
   "source": [
    "# Here we consider logical ranges for price, minimum_nights, and availability_365"
   ]
  },
  {
   "cell_type": "code",
   "execution_count": 18,
   "id": "f4c4cc92-38ea-4ba6-8124-2ffe25aaa189",
   "metadata": {},
   "outputs": [],
   "source": [
    "# Price - Only keep listings within a reasonable range e.g. under $1000 per night\n",
    "df = df[df['price'] <= 1000]"
   ]
  },
  {
   "cell_type": "code",
   "execution_count": 19,
   "id": "08dbc6ba-00fe-416f-ae52-6213f695fcad",
   "metadata": {},
   "outputs": [],
   "source": [
    "# Minimum Nights - Filter out listings with unrealistic minimum stay requirements\n",
    "df = df[df['minimum_nights'] <= 365]"
   ]
  },
  {
   "cell_type": "code",
   "execution_count": 20,
   "id": "319f3964-f2f6-4bff-aaa5-044e28861df7",
   "metadata": {},
   "outputs": [],
   "source": [
    "# Availability - Remove listings with no availability over the year, assuming they’re inactive\n",
    "df = df[df['availability_365'] > 0]"
   ]
  },
  {
   "cell_type": "markdown",
   "id": "6c41f9a8-563e-4d7c-8087-eb7dc16470ac",
   "metadata": {},
   "source": [
    "### Standardize Text Data"
   ]
  },
  {
   "cell_type": "markdown",
   "id": "acdab2ff-4597-4a5f-8163-dc53317478ec",
   "metadata": {},
   "source": [
    "Because python is sensitive with case, we will perform standardization on the columns with text data"
   ]
  },
  {
   "cell_type": "code",
   "execution_count": 21,
   "id": "af7c53bb-02bc-4d45-8c94-5038299f7cdf",
   "metadata": {},
   "outputs": [],
   "source": [
    "# Convert neighbourhood and host_name to lowercase for uniformity\n",
    "df['neighbourhood'] = df['neighbourhood'].str.lower()\n",
    "df['host_name'] = df['host_name'].str.lower()"
   ]
  },
  {
   "cell_type": "markdown",
   "id": "92611061-2f6d-4576-b4f3-6abd32c01872",
   "metadata": {},
   "source": [
    "### Drop Irrelevant Columns"
   ]
  },
  {
   "cell_type": "code",
   "execution_count": 22,
   "id": "70e9edf7-646a-4074-b684-b2699da993d2",
   "metadata": {},
   "outputs": [],
   "source": [
    "# Drop columns like 'id' and 'host_id' if they are not relevant to the analysis\n",
    "df.drop(columns=['id', 'host_id'], inplace=True)"
   ]
  },
  {
   "cell_type": "markdown",
   "id": "4a99d5ca-c324-48dc-80d5-fa1083b37e08",
   "metadata": {},
   "source": [
    "### Data consistency validation"
   ]
  },
  {
   "cell_type": "code",
   "execution_count": 23,
   "id": "5bfc13f8-8e8f-4378-832f-64ce84fbd112",
   "metadata": {},
   "outputs": [],
   "source": [
    "# Listings with 0 price might indicate missing or incorrect data\n",
    "df = df[df['price'] > 0]"
   ]
  },
  {
   "cell_type": "code",
   "execution_count": 24,
   "id": "798bfae3-e0c2-410d-85cc-f1081d9384f2",
   "metadata": {},
   "outputs": [],
   "source": [
    "# Listings with a last_review but no reviews might be inconsistent; set last_review to NaN in such cases\n",
    "df.loc[df['reviews_per_month'] == 0, 'last_review'] = pd.NaT"
   ]
  },
  {
   "cell_type": "markdown",
   "id": "397fd386-49c3-424c-86de-9ed946ffc7e6",
   "metadata": {},
   "source": [
    "### Re-verify Data Cleanliness"
   ]
  },
  {
   "cell_type": "code",
   "execution_count": 25,
   "id": "f4a438ea-acb4-4247-8883-9d3d53ccaff1",
   "metadata": {},
   "outputs": [],
   "source": [
    "# Printing out a summaries to confirm the dataset is clean"
   ]
  },
  {
   "cell_type": "code",
   "execution_count": 26,
   "id": "53f4163a-80b3-4489-a07a-f4595b246f9a",
   "metadata": {},
   "outputs": [
    {
     "name": "stdout",
     "output_type": "stream",
     "text": [
      "\n",
      "Final dataset summary:\n",
      "<class 'pandas.core.frame.DataFrame'>\n",
      "Index: 31160 entries, 0 to 48894\n",
      "Data columns (total 14 columns):\n",
      " #   Column                          Non-Null Count  Dtype         \n",
      "---  ------                          --------------  -----         \n",
      " 0   name                            31160 non-null  object        \n",
      " 1   host_name                       31160 non-null  object        \n",
      " 2   neighbourhood_group             31160 non-null  object        \n",
      " 3   neighbourhood                   31160 non-null  object        \n",
      " 4   latitude                        31160 non-null  float64       \n",
      " 5   longitude                       31160 non-null  float64       \n",
      " 6   room_type                       31160 non-null  object        \n",
      " 7   price                           31160 non-null  int64         \n",
      " 8   minimum_nights                  31160 non-null  int64         \n",
      " 9   number_of_reviews               31160 non-null  int64         \n",
      " 10  last_review                     26047 non-null  datetime64[ns]\n",
      " 11  reviews_per_month               26047 non-null  float64       \n",
      " 12  calculated_host_listings_count  31160 non-null  int64         \n",
      " 13  availability_365                31160 non-null  int64         \n",
      "dtypes: datetime64[ns](1), float64(3), int64(5), object(5)\n",
      "memory usage: 3.6+ MB\n",
      "None\n",
      "\n",
      "Check for any remaining missing values:\n",
      "name                                 0\n",
      "host_name                            0\n",
      "neighbourhood_group                  0\n",
      "neighbourhood                        0\n",
      "latitude                             0\n",
      "longitude                            0\n",
      "room_type                            0\n",
      "price                                0\n",
      "minimum_nights                       0\n",
      "number_of_reviews                    0\n",
      "last_review                       5113\n",
      "reviews_per_month                 5113\n",
      "calculated_host_listings_count       0\n",
      "availability_365                     0\n",
      "dtype: int64\n",
      "\n",
      "Check descriptive statistics for any new potential outliers:\n",
      "           latitude     longitude         price  minimum_nights  \\\n",
      "count  31160.000000  31160.000000  31160.000000    31160.000000   \n",
      "mean      40.728393    -73.948591    149.146630        7.975834   \n",
      "min       40.499790    -74.244420     10.000000        1.000000   \n",
      "25%       40.688330    -73.983160     70.000000        2.000000   \n",
      "50%       40.723615    -73.954000    110.000000        3.000000   \n",
      "75%       40.763042    -73.929988    185.000000        5.000000   \n",
      "max       40.913060    -73.712990   1000.000000      365.000000   \n",
      "std        0.056599      0.051412    125.784682       17.983702   \n",
      "\n",
      "       number_of_reviews                    last_review  reviews_per_month  \\\n",
      "count       31160.000000                          26047       26047.000000   \n",
      "mean           31.982670  2019-03-20 11:44:22.924712960           1.813660   \n",
      "min             0.000000            2011-04-25 00:00:00           0.010000   \n",
      "25%             2.000000            2019-04-28 00:00:00           0.450000   \n",
      "50%            10.000000            2019-06-16 00:00:00           1.240000   \n",
      "75%            39.000000            2019-06-28 00:00:00           2.690000   \n",
      "max           629.000000            2019-07-08 00:00:00          58.500000   \n",
      "std            51.734729                            NaN           1.807052   \n",
      "\n",
      "       calculated_host_listings_count  availability_365  \n",
      "count                    31160.000000      31160.000000  \n",
      "mean                        10.376123        175.351476  \n",
      "min                          1.000000          1.000000  \n",
      "25%                          1.000000         55.000000  \n",
      "50%                          1.000000        167.000000  \n",
      "75%                          3.000000        304.000000  \n",
      "max                        327.000000        365.000000  \n",
      "std                         40.817063        126.085799  \n"
     ]
    }
   ],
   "source": [
    "print(\"\\nFinal dataset summary:\")\n",
    "print(df.info())\n",
    "print(\"\\nCheck for any remaining missing values:\")\n",
    "print(df.isnull().sum())\n",
    "print(\"\\nCheck descriptive statistics for any new potential outliers:\")\n",
    "print(df.describe())"
   ]
  },
  {
   "cell_type": "code",
   "execution_count": null,
   "id": "dc54e10f-4634-4666-8a56-c823c3f178e2",
   "metadata": {},
   "outputs": [],
   "source": []
  }
 ],
 "metadata": {
  "kernelspec": {
   "display_name": "Python 3 (ipykernel)",
   "language": "python",
   "name": "python3"
  },
  "language_info": {
   "codemirror_mode": {
    "name": "ipython",
    "version": 3
   },
   "file_extension": ".py",
   "mimetype": "text/x-python",
   "name": "python",
   "nbconvert_exporter": "python",
   "pygments_lexer": "ipython3",
   "version": "3.12.4"
  }
 },
 "nbformat": 4,
 "nbformat_minor": 5
}
